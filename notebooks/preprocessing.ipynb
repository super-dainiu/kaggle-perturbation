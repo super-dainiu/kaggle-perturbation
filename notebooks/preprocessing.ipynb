{
 "cells": [
  {
   "cell_type": "code",
   "execution_count": 3,
   "metadata": {},
   "outputs": [],
   "source": [
    "import os\n",
    "os.chdir('/home/yz979/code/kaggle-perturbation')\n",
    "os.environ['CUDA_VISIBLE_DEVICES'] = '3'"
   ]
  },
  {
   "cell_type": "code",
   "execution_count": 4,
   "metadata": {},
   "outputs": [],
   "source": [
    "import pandas as pd\n",
    "import numpy as np\n",
    "import matplotlib.pyplot as plt\n",
    "import anndata as ad\n",
    "import scanpy as sc\n",
    "import scipy"
   ]
  },
  {
   "cell_type": "markdown",
   "metadata": {},
   "source": [
    "## Loading expression data"
   ]
  },
  {
   "cell_type": "markdown",
   "metadata": {},
   "source": [
    "Here we load expression data (long format) and converting it into an AnnData object (wide sparse format).\n",
    "\n",
    "You'll need to increase your instance RAM to at least 64 GB."
   ]
  },
  {
   "cell_type": "code",
   "execution_count": 19,
   "metadata": {},
   "outputs": [
    {
     "name": "stderr",
     "output_type": "stream",
     "text": [
      "/home/yz979/miniconda3/envs/kaggle2/lib/python3.11/site-packages/anndata/_core/anndata.py:522: FutureWarning: The dtype argument is deprecated and will be removed in late 2024.\n",
      "  warnings.warn(\n",
      "/home/yz979/miniconda3/envs/kaggle2/lib/python3.11/site-packages/anndata/_core/anndata.py:1294: ImplicitModificationWarning: Trying to modify attribute `.obs` of view, initializing view as actual.\n",
      "  df[key] = c\n",
      "/home/yz979/miniconda3/envs/kaggle2/lib/python3.11/site-packages/anndata/_core/anndata.py:1294: ImplicitModificationWarning: Trying to modify attribute `.obs` of view, initializing view as actual.\n",
      "  df[key] = c\n",
      "/home/yz979/miniconda3/envs/kaggle2/lib/python3.11/site-packages/anndata/_core/anndata.py:1294: ImplicitModificationWarning: Trying to modify attribute `.obs` of view, initializing view as actual.\n",
      "  df[key] = c\n",
      "/home/yz979/miniconda3/envs/kaggle2/lib/python3.11/site-packages/anndata/_core/anndata.py:1294: ImplicitModificationWarning: Trying to modify attribute `.obs` of view, initializing view as actual.\n",
      "  df[key] = c\n",
      "/home/yz979/miniconda3/envs/kaggle2/lib/python3.11/site-packages/anndata/_core/anndata.py:1294: ImplicitModificationWarning: Trying to modify attribute `.obs` of view, initializing view as actual.\n",
      "  df[key] = c\n",
      "/home/yz979/miniconda3/envs/kaggle2/lib/python3.11/site-packages/anndata/_core/anndata.py:1294: ImplicitModificationWarning: Trying to modify attribute `.obs` of view, initializing view as actual.\n",
      "  df[key] = c\n",
      "/home/yz979/miniconda3/envs/kaggle2/lib/python3.11/site-packages/anndata/_core/anndata.py:1294: ImplicitModificationWarning: Trying to modify attribute `.obs` of view, initializing view as actual.\n",
      "  df[key] = c\n",
      "/home/yz979/miniconda3/envs/kaggle2/lib/python3.11/site-packages/anndata/_core/anndata.py:1294: ImplicitModificationWarning: Trying to modify attribute `.obs` of view, initializing view as actual.\n",
      "  df[key] = c\n",
      "/home/yz979/miniconda3/envs/kaggle2/lib/python3.11/site-packages/anndata/_core/anndata.py:1294: ImplicitModificationWarning: Trying to modify attribute `.obs` of view, initializing view as actual.\n",
      "  df[key] = c\n",
      "/home/yz979/miniconda3/envs/kaggle2/lib/python3.11/site-packages/anndata/_core/anndata.py:1294: ImplicitModificationWarning: Trying to modify attribute `.obs` of view, initializing view as actual.\n",
      "  df[key] = c\n"
     ]
    }
   ],
   "source": [
    "data_dir = 'data'\n",
    "adata_train_df = pd.read_parquet(os.path.join(data_dir, 'adata_train.parquet'))\n",
    "adata_obs_meta_df = pd.read_csv(os.path.join(data_dir, 'adata_obs_meta.csv'))\n",
    "\n",
    "adata_train_df['obs_id'] = adata_train_df['obs_id'].astype('category')\n",
    "adata_train_df['gene'] = adata_train_df['gene'].astype('category')\n",
    "\n",
    "obs_ids = adata_train_df['obs_id'].unique()\n",
    "obs_id_map = dict(zip(obs_ids, range(len(obs_ids))))\n",
    "\n",
    "genes = adata_train_df['gene'].unique()\n",
    "gene_map = dict(zip(genes, range(len(genes))))\n",
    "\n",
    "adata_train_df['obs_index'] = adata_train_df['obs_id'].map(obs_id_map)\n",
    "adata_train_df['gene_index'] = adata_train_df['gene'].map(gene_map)\n",
    "\n",
    "normalized_counts_values = adata_train_df['normalized_count'].to_numpy()\n",
    "counts_values = adata_train_df['count'].to_numpy()\n",
    "\n",
    "row_indices = adata_train_df['obs_index'].to_numpy()\n",
    "col_indices = adata_train_df['gene_index'].to_numpy()\n",
    "\n",
    "counts = scipy.sparse.csr_matrix((counts_values, (row_indices, col_indices)))\n",
    "\n",
    "obs_df = pd.Series(obs_ids, name='obs_id').to_frame()\n",
    "var_df = pd.Series(genes, name='gene').to_frame()\n",
    "\n",
    "obs_df = obs_df.set_index('obs_id')\n",
    "var_df = var_df.set_index('gene')\n",
    "\n",
    "obs_df.index = obs_df.index.astype('str')\n",
    "var_df.index = var_df.index.astype('str')\n",
    "\n",
    "counts_adata = ad.AnnData(\n",
    "    X=counts,\n",
    "    obs=obs_df,\n",
    "    var=var_df,\n",
    "    dtype=np.uint32,\n",
    ")\n",
    "\n",
    "index_ordering_before_join = counts_adata.obs.index\n",
    "counts_adata.obs = counts_adata.obs.join(adata_obs_meta_df.set_index('obs_id'))\n",
    "index_ordering_after_join = counts_adata.obs.index\n",
    "assert (index_ordering_before_join == index_ordering_after_join).all()\n",
    "\n",
    "counts_adata.write_h5ad(os.path.join(data_dir, 'adata_train.h5ad'))"
   ]
  },
  {
   "cell_type": "markdown",
   "metadata": {},
   "source": [
    "## Loading multi-omics data"
   ]
  },
  {
   "cell_type": "markdown",
   "metadata": {},
   "source": [
    "Here we load multi-omics data (long format) and converting it into an AnnData object (wide sparse format).\n",
    "\n",
    "You'll need to increase your instance RAM to at least 64 GB."
   ]
  },
  {
   "cell_type": "code",
   "execution_count": 16,
   "metadata": {},
   "outputs": [
    {
     "name": "stderr",
     "output_type": "stream",
     "text": [
      "/home/yz979/miniconda3/envs/kaggle2/lib/python3.11/site-packages/anndata/_core/anndata.py:522: FutureWarning: The dtype argument is deprecated and will be removed in late 2024.\n",
      "  warnings.warn(\n"
     ]
    }
   ],
   "source": [
    "data_dir = 'data'\n",
    "multiome_train_df = pd.read_parquet(os.path.join(data_dir, 'multiome_train.parquet'))\n",
    "multiome_obs_meta_df = pd.read_csv(os.path.join(data_dir, 'multiome_obs_meta.csv'))\n",
    "multiome_var_meta_df = pd.read_csv(os.path.join(data_dir, 'multiome_var_meta.csv'))\n",
    "\n",
    "multiome_train_df['obs_id'] = multiome_train_df['obs_id'].astype('category')\n",
    "multiome_train_df['location'] = multiome_train_df['location'].astype('category')\n",
    "\n",
    "obs_ids = multiome_train_df['obs_id'].unique()\n",
    "obs_id_map = dict(zip(obs_ids, range(len(obs_ids))))\n",
    "\n",
    "locations = multiome_train_df['location'].unique()\n",
    "location_map = dict(zip(locations, range(len(locations))))\n",
    "\n",
    "multiome_train_df['obs_index'] = multiome_train_df['obs_id'].map(obs_id_map)\n",
    "multiome_train_df['location_index'] = multiome_train_df['location'].map(location_map)\n",
    "\n",
    "normalized_counts_values = multiome_train_df['normalized_count'].to_numpy()\n",
    "counts_values = multiome_train_df['count'].to_numpy()\n",
    "\n",
    "row_indices = multiome_train_df['obs_index'].to_numpy()\n",
    "col_indices = multiome_train_df['location_index'].to_numpy()\n",
    "\n",
    "counts = scipy.sparse.csr_matrix((counts_values, (row_indices, col_indices)))\n",
    "\n",
    "obs_df = pd.Series(obs_ids, name='obs_id').to_frame()\n",
    "var_df = pd.Series(locations, name='location').to_frame()\n",
    "\n",
    "obs_df = obs_df.set_index('obs_id')\n",
    "var_df = var_df.set_index('location')\n",
    "\n",
    "obs_df.index = obs_df.index.astype('str')\n",
    "var_df.index = var_df.index.astype('str')\n",
    "\n",
    "counts_adata = ad.AnnData(\n",
    "    X=counts,\n",
    "    obs=obs_df,\n",
    "    var=var_df,\n",
    "    dtype=np.uint32,\n",
    ")\n",
    "\n",
    "index_ordering_before_join = counts_adata.obs.index\n",
    "counts_adata.obs = counts_adata.obs.join(multiome_obs_meta_df.set_index('obs_id'))\n",
    "index_ordering_after_join = counts_adata.obs.index\n",
    "assert (index_ordering_before_join == index_ordering_after_join).all()\n",
    "\n",
    "index_ordering_before_join = counts_adata.var.index\n",
    "counts_adata.var = counts_adata.var.join(multiome_var_meta_df.set_index('location'))\n",
    "index_ordering_after_join = counts_adata.var.index\n",
    "assert (index_ordering_before_join == index_ordering_after_join).all()\n",
    "\n",
    "rna_adata = counts_adata.copy()[:, counts_adata.var['feature_type'] == 'Gene Expression']\n",
    "atac_adata = counts_adata.copy()[:, counts_adata.var['feature_type'] == 'Peaks']\n",
    "counts_adata = ad.concat([rna_adata, atac_adata], axis=1, merge=\"same\")\n",
    "\n",
    "counts_adata.write_h5ad(os.path.join(data_dir, 'multiome_train.h5ad'))\n"
   ]
  },
  {
   "cell_type": "markdown",
   "metadata": {},
   "source": [
    "## Loading differential expression data"
   ]
  },
  {
   "cell_type": "markdown",
   "metadata": {},
   "source": [
    "Here we load differential expression data (long format) and converting it into an AnnData object (wide sparse format)."
   ]
  },
  {
   "cell_type": "code",
   "execution_count": null,
   "metadata": {},
   "outputs": [],
   "source": [
    "data_dir = 'data'\n",
    "de_train_df = pd.read_parquet(os.path.join(data_dir, 'de_train.parquet'))\n",
    "\n",
    "de_train_obs_meta_df = de_train_df.iloc[:, :5]\n",
    "de_train_df = de_train_df.iloc[:, 5:]"
   ]
  }
 ],
 "metadata": {
  "kernelspec": {
   "display_name": "kaggle",
   "language": "python",
   "name": "python3"
  },
  "language_info": {
   "codemirror_mode": {
    "name": "ipython",
    "version": 3
   },
   "file_extension": ".py",
   "mimetype": "text/x-python",
   "name": "python",
   "nbconvert_exporter": "python",
   "pygments_lexer": "ipython3",
   "version": "3.11.5"
  },
  "orig_nbformat": 4
 },
 "nbformat": 4,
 "nbformat_minor": 2
}
