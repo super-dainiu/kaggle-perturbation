{
 "cells": [
  {
   "cell_type": "markdown",
   "metadata": {},
   "source": [
    "# Extracting ChemBERTa embeddings from the ChemBERTa model\n",
    "ChemBERTa `[Chithrananda et al., 2020]` is used to generate embedding vectors for each SMILES graph"
   ]
  },
  {
   "cell_type": "markdown",
   "metadata": {},
   "source": [
    "## Setting up environment"
   ]
  },
  {
   "cell_type": "code",
   "execution_count": 2,
   "metadata": {},
   "outputs": [],
   "source": [
    "import os\n",
    "\n",
    "os.chdir('/home/yz979/code/kaggle-perturbation/')\n",
    "os.environ['CUDA_VISIBLE_DEVICES'] = '3'"
   ]
  },
  {
   "cell_type": "code",
   "execution_count": 3,
   "metadata": {},
   "outputs": [],
   "source": [
    "import numpy as np\n",
    "import pandas as pd\n",
    "import scanpy as sc\n",
    "import torch\n",
    "from tqdm import tqdm\n",
    "from transformers import AutoModelForMaskedLM, AutoTokenizer"
   ]
  },
  {
   "cell_type": "markdown",
   "metadata": {},
   "source": [
    "## Loading Dataset and ChemBERTa Model\n",
    "The preprocessed `de_train.h5ad` and `id_map.h5ad` can be loaded using the `sc.read_h5ad` function. The ChemBERTa model can be loaded using the `AutoModelForMaskedLM` function from the `transformers` library."
   ]
  },
  {
   "cell_type": "code",
   "execution_count": 17,
   "metadata": {},
   "outputs": [
    {
     "name": "stdout",
     "output_type": "stream",
     "text": [
      "AnnData object with n_obs × n_vars = 614 × 18211\n",
      "    obs: 'cell_type', 'sm_name', 'sm_lincs_id', 'SMILES', 'control'\n",
      "    obsm: 'chemberta', 'multivi'\n",
      "AnnData object with n_obs × n_vars = 255 × 18211\n",
      "    obs: 'cell_type', 'sm_name', 'sm_lincs_id', 'SMILES', 'control'\n",
      "    obsm: 'chemberta', 'multivi'\n"
     ]
    }
   ],
   "source": [
    "de_train = sc.read_h5ad('data/de_train.h5ad')\n",
    "id_map = sc.read_h5ad('data/id_map.h5ad')\n",
    "\n",
    "print(de_train)\n",
    "print(id_map)"
   ]
  },
  {
   "cell_type": "code",
   "execution_count": 11,
   "metadata": {},
   "outputs": [
    {
     "name": "stderr",
     "output_type": "stream",
     "text": [
      "Some weights of RobertaForMaskedLM were not initialized from the model checkpoint at DeepChem/ChemBERTa-77M-MTR and are newly initialized: ['lm_head.decoder.bias', 'lm_head.dense.weight', 'lm_head.layer_norm.weight', 'lm_head.dense.bias', 'lm_head.bias', 'lm_head.layer_norm.bias']\n",
      "You should probably TRAIN this model on a down-stream task to be able to use it for predictions and inference.\n",
      "Special tokens have been added in the vocabulary, make sure the associated word embeddings are fine-tuned or trained.\n"
     ]
    }
   ],
   "source": [
    "chemberta = AutoModelForMaskedLM.from_pretrained(\"DeepChem/ChemBERTa-77M-MTR\")\n",
    "tokenizer = AutoTokenizer.from_pretrained(\"DeepChem/ChemBERTa-77M-MTR\")"
   ]
  },
  {
   "cell_type": "markdown",
   "metadata": {},
   "source": [
    "## Extract embeddings for each SMILES graph\n",
    "For each SMILES graph, the ChemBERTa model is used to generate the embedding vector. The embedding vector is the output of the `[CLS]` token. The embedding vector is stored in the `obsm['chemberta']` slot of the `de_train` object."
   ]
  },
  {
   "cell_type": "code",
   "execution_count": 14,
   "metadata": {},
   "outputs": [
    {
     "name": "stderr",
     "output_type": "stream",
     "text": [
      "100%|██████████| 614/614 [00:03<00:00, 162.88it/s]\n"
     ]
    }
   ],
   "source": [
    "smiles_de = de_train.obs['SMILES'].values\n",
    "\n",
    "# generate embeddings for all smiles\n",
    "embeddings = []\n",
    "for smile in tqdm(smiles_de):\n",
    "    encoded_input = tokenizer(smile, return_tensors=\"pt\", padding=True, truncation=True)\n",
    "    model_output = chemberta(**encoded_input).logits\n",
    "    model_output = model_output.squeeze(0)[0].detach()\n",
    "    embeddings.append(model_output)\n",
    "embeddings = torch.stack(embeddings)\n",
    "\n",
    "de_train.obsm['chemberta'] = embeddings.numpy()\n",
    "de_train.write_h5ad('data/de_train.h5ad')"
   ]
  },
  {
   "cell_type": "code",
   "execution_count": 18,
   "metadata": {},
   "outputs": [
    {
     "name": "stderr",
     "output_type": "stream",
     "text": [
      "100%|██████████| 255/255 [00:01<00:00, 155.67it/s]\n"
     ]
    }
   ],
   "source": [
    "smiles_id = id_map.obs['SMILES'].values\n",
    "\n",
    "# generate embeddings for all smiles\n",
    "embeddings = []\n",
    "for smile in tqdm(smiles_id):\n",
    "    encoded_input = tokenizer(smile, return_tensors=\"pt\", padding=True, truncation=True)\n",
    "    model_output = chemberta(**encoded_input).logits\n",
    "    model_output = model_output.squeeze(0)[0].detach()\n",
    "    embeddings.append(model_output)\n",
    "embeddings = torch.stack(embeddings)\n",
    "\n",
    "id_map.obsm['chemberta'] = embeddings.numpy()\n",
    "id_map.write_h5ad('data/id_map.h5ad')"
   ]
  }
 ],
 "metadata": {
  "kernelspec": {
   "display_name": "kaggle",
   "language": "python",
   "name": "python3"
  },
  "language_info": {
   "codemirror_mode": {
    "name": "ipython",
    "version": 3
   },
   "file_extension": ".py",
   "mimetype": "text/x-python",
   "name": "python",
   "nbconvert_exporter": "python",
   "pygments_lexer": "ipython3",
   "version": "3.11.5"
  },
  "orig_nbformat": 4
 },
 "nbformat": 4,
 "nbformat_minor": 2
}
