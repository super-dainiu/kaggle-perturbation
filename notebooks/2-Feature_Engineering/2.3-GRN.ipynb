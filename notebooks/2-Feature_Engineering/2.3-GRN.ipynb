{
 "cells": [
  {
   "cell_type": "markdown",
   "metadata": {},
   "source": [
    "## Setting up environment"
   ]
  },
  {
   "cell_type": "code",
   "execution_count": 2,
   "metadata": {},
   "outputs": [],
   "source": [
    "import os\n",
    "\n",
    "os.chdir('/home/yz979/code/kaggle-perturbation/')\n",
    "os.environ['CUDA_VISIBLE_DEVICES'] = '3'"
   ]
  },
  {
   "cell_type": "code",
   "execution_count": 3,
   "metadata": {},
   "outputs": [],
   "source": [
    "from dataclasses import dataclass\n",
    "from pathlib import Path\n",
    "from typing import Dict, List, Optional, Union\n",
    "\n",
    "import anndata\n",
    "import networkx as nx\n",
    "import numpy as np\n",
    "import pandas as pd\n",
    "import pickle\n",
    "import requests\n",
    "import scanpy as sc\n",
    "import torch\n",
    "import torch.nn as nn\n",
    "from tqdm import tqdm"
   ]
  },
  {
   "cell_type": "markdown",
   "metadata": {},
   "source": [
    "## Load Gene Names\n",
    "Get all gene names from ``de_train.h5ad``."
   ]
  },
  {
   "cell_type": "code",
   "execution_count": 15,
   "metadata": {},
   "outputs": [],
   "source": [
    "data_path = 'data/'\n",
    "de_train = sc.read_h5ad(os.path.join(data_path, 'de_train.h5ad'))\n",
    "\n",
    "gene_list = de_train.var_names.tolist()\n",
    "node_map = {gene: i for i, gene in enumerate(gene_list)}"
   ]
  },
  {
   "cell_type": "markdown",
   "metadata": {},
   "source": [
    "## Download Gene Ontology (GO) from Dataverse\n",
    "This function downloads the GO from Dataverse. The GO is used to annotate the genes in the network. The GO is downloaded from the Dataverse repository and saved in the `data` folder. The following function is used to download the GO from Dataverse.\n",
    "\n",
    "- ``url``: The URL of the GO file in Dataverse.\n",
    "- ``save_path``: The path to save the GO file. If already have the GO file, then the function will not download the file again."
   ]
  },
  {
   "cell_type": "code",
   "execution_count": 4,
   "metadata": {},
   "outputs": [],
   "source": [
    "def dataverse_download(url, save_path):\n",
    "    \"\"\"\n",
    "    Dataverse download helper with progress bar\n",
    "\n",
    "    Args:\n",
    "        url (str): the url of the dataset\n",
    "        save_path (str): the path to save the dataset \n",
    "    \"\"\"\n",
    "    \n",
    "    if os.path.exists(save_path):\n",
    "        print('Found local copy...')\n",
    "    else:\n",
    "        print(\"Downloading...\")\n",
    "        response = requests.get(url, stream=True)\n",
    "        total_size_in_bytes= int(response.headers.get('content-length', 0))\n",
    "        block_size = 1024\n",
    "        progress_bar = tqdm(total=total_size_in_bytes, unit='iB', unit_scale=True)\n",
    "        with open(save_path, 'wb') as file:\n",
    "            for data in response.iter_content(block_size):\n",
    "                progress_bar.update(len(data))\n",
    "                file.write(data)\n",
    "        progress_bar.close()"
   ]
  },
  {
   "cell_type": "code",
   "execution_count": 5,
   "metadata": {},
   "outputs": [],
   "source": [
    "data_path = 'data/grn/'\n",
    "if not os.path.exists(os.path.join(data_path, 'gene2go.pkl')):\n",
    "    # download gene2go.pkl\n",
    "    server_path = 'https://dataverse.harvard.edu/api/access/datafile/6153417' \n",
    "    dataverse_download(server_path, os.path.join(data_path, 'gene2go.pkl'))\n",
    "    \n",
    "with open(os.path.join(data_path, 'gene2go.pkl'), 'rb') as f:\n",
    "    gene2go = pickle.load(f)"
   ]
  },
  {
   "cell_type": "markdown",
   "metadata": {},
   "source": [
    "## Gene Ontology (GO) Graph\n",
    "We follow the instructions from ``GEARS[Roohani et al., 2023]`` and construct a GO graph. The following function is used to construct the GO graph.\n",
    "\n",
    "- ``gene_list``: The list of genes to be annotated.\n",
    "- ``gene2go``: The GO annotations of all genes.\n",
    "- ``save_path``: The path to save the GO graph. If already have the GO graph, then the function will not construct the graph again.\n",
    "- ``threshold``: The threshold to filter the GO graph. The default value is 0.1."
   ]
  },
  {
   "cell_type": "code",
   "execution_count": 8,
   "metadata": {},
   "outputs": [],
   "source": [
    "def go_auto(gene_list, gene2go, save_path, threshold=0.1):\n",
    "    \"\"\"\n",
    "    Generate gene ontology data\n",
    "\n",
    "    Args:\n",
    "        gene_list (list): list of genes\n",
    "        gene2go (dict): gene2go mapping\n",
    "        save_path (str): the path to save the dataset\n",
    "        threshold (float): threshold for filtering edges, defaults to 0.1.\n",
    "\n",
    "    Returns:\n",
    "        pd.DataFrame: gene ontology data\n",
    "    \"\"\"\n",
    "\n",
    "    \n",
    "    if os.path.exists(save_path):\n",
    "        return pd.read_csv(save_path)\n",
    "\n",
    "    # filter gene2go mapping to current genes\n",
    "    gene2go = {i: list(gene2go[i]) for i in gene_list if i in gene2go}\n",
    "    edge_list = []\n",
    "    for g1 in tqdm(gene2go.keys()):\n",
    "        for g2 in gene2go.keys():\n",
    "            edge_list.append((\n",
    "                g1, g2, \n",
    "                len(np.intersect1d(gene2go[g1], gene2go[g2])) / len(np.union1d(gene2go[g1], gene2go[g2]))\n",
    "            ))\n",
    "\n",
    "    # filter edges\n",
    "    edge_list = [i for i in edge_list if i[2] > threshold]\n",
    "    edge_df = pd.DataFrame(edge_list).rename(columns={0: 'gene1', \n",
    "                                                      1: 'gene2',\n",
    "                                                      2: 'score'})\n",
    "\n",
    "    edge_df = edge_df.rename(columns={'gene1': 'source',\n",
    "                                      'gene2': 'target',\n",
    "                                      'score': 'importance'})\n",
    "    edge_df.to_csv(go_path, index=False)\n",
    "    return edge_df"
   ]
  },
  {
   "cell_type": "code",
   "execution_count": 10,
   "metadata": {},
   "outputs": [],
   "source": [
    "data_path = 'data/grn/'\n",
    "go_graph = go_auto(gene_list, gene2go, os.path.join(data_path, 'go.csv'))"
   ]
  },
  {
   "cell_type": "markdown",
   "metadata": {},
   "source": [
    "## Gene Co-expression Network\n",
    "We follow the instructions from ``GEARS[Roohani et al., 2023]`` and construct a gene co-expression network. The following function is used to construct the gene co-expression network.\n",
    "\n",
    "- ``adata``: The AnnData object of the dataset.\n",
    "- ``save_path``: The path to save the gene co-expression network. If already have the gene co-expression network, then the function will not construct the network again.\n",
    "- ``threshold``: The threshold to construct the gene co-expression network. The default value is 0.1."
   ]
  },
  {
   "cell_type": "code",
   "execution_count": 11,
   "metadata": {},
   "outputs": [],
   "source": [
    "def coexpress_auto(adata, save_path, threshold=0.1, method='pearson'):\n",
    "    \"\"\"\n",
    "    Generate coexpression data\n",
    "    \n",
    "    Args:\n",
    "        adata (anndata.AnnData): anndata object\n",
    "        save_path (str): the path to save the dataset\n",
    "        threshold (float): threshold for filtering edges, defaults to 0.1.\n",
    "        method (str): method for calculating correlation, defaults to 'pearson'.\n",
    "\n",
    "    Returns:\n",
    "        pd.DataFrame: coexpression data\n",
    "    \"\"\"\n",
    "\n",
    "    if os.path.exists(save_path):\n",
    "        return pd.read_csv(save_path)\n",
    "    \n",
    "    df = adata.to_df()\n",
    "    gene_names = df.columns\n",
    "    \n",
    "    # calculate correlation matrix\n",
    "    cor_matrix = df.corr(method=method)\n",
    "\n",
    "    # filter edges\n",
    "    edges = []\n",
    "    for i in range(len(cor_matrix)):\n",
    "        for j in range(i+1, len(cor_matrix)):\n",
    "            if abs(cor_matrix.iloc[i, j]) > threshold:\n",
    "                edges.append((gene_names[i], gene_names[j], cor_matrix.iloc[i, j]))\n",
    "    \n",
    "    edge_df = pd.DataFrame(edges, columns=['source', 'target', 'importance'])\n",
    "    edge_df.to_csv(gc_path, index=False)\n",
    "    return edge_df"
   ]
  },
  {
   "cell_type": "code",
   "execution_count": 12,
   "metadata": {},
   "outputs": [],
   "source": [
    "data_path = 'data/grn/'\n",
    "gc_graph = coexpress_auto(de_train, os.path.join(data_path, 'gc.csv'))"
   ]
  },
  {
   "cell_type": "markdown",
   "metadata": {},
   "source": [
    "## Gene Regulatory Network (GRN)\n",
    "We construct a gene regulatory network from either the gene co-expression network or the GO graph. The following function is used to construct the gene regulatory network.\n",
    "\n",
    "- ``network``: The gene co-expression network or the GO graph.\n",
    "- ``gene_list``: The list of genes to be annotated.\n",
    "- ``node_map``: The mapping from gene names to node indices."
   ]
  },
  {
   "cell_type": "code",
   "execution_count": 23,
   "metadata": {},
   "outputs": [],
   "source": [
    "def gene_similarity_network(network, gene_list, node_map, save_path=None):\n",
    "    \"\"\"\n",
    "    Generate gene similarity network\n",
    "\n",
    "    Args:\n",
    "        network (pd.DataFrame): gene similarity data\n",
    "        gene_list (list): list of genes\n",
    "        node_map (dict): mapping from gene to node\n",
    "        save_path (str): the path to save the dataset, defaults to None.\n",
    "\n",
    "    Returns:\n",
    "        edge_index (np.array): edge index\n",
    "        edge_weight (np.array): edge weight\n",
    "    \"\"\"\n",
    "\n",
    "    G = nx.from_pandas_edgelist(network, source='source',\n",
    "                                target='target', edge_attr=['importance'],\n",
    "                                create_using=nx.Graph())\n",
    "    G.add_nodes_from(gene_list)\n",
    "    G.add_weighted_edges_from(network.values)\n",
    "    G.remove_nodes_from([n for n in G.nodes if n not in node_map])\n",
    "\n",
    "    edge_index = np.array([(node_map[e[0]], node_map[e[1]]) for e in G.edges]).T\n",
    "    edge_attr = nx.get_edge_attributes(G, 'importance') \n",
    "    edge_weight = np.array([edge_attr[e] for e in G.edges])\n",
    "\n",
    "    if save_path:\n",
    "        np.save(os.path.join(save_path, 'edge_index.npy'), edge_index)\n",
    "        np.save(os.path.join(save_path, 'edge_weight.npy'), edge_weight)\n",
    "    return edge_index, edge_weight\n",
    "    "
   ]
  },
  {
   "cell_type": "code",
   "execution_count": 24,
   "metadata": {},
   "outputs": [
    {
     "data": {
      "text/plain": [
       "(array([[    0,     0,     0, ..., 16791, 16967, 17637],\n",
       "        [    0,     2,    71, ..., 16791, 16967, 17637]]),\n",
       " array([1.        , 0.18181818, 0.125     , ..., 1.        , 1.        ,\n",
       "        1.        ]))"
      ]
     },
     "execution_count": 24,
     "metadata": {},
     "output_type": "execute_result"
    }
   ],
   "source": [
    "gene_similarity_network(go_graph, gene_list, node_map)"
   ]
  }
 ],
 "metadata": {
  "kernelspec": {
   "display_name": "kaggle2",
   "language": "python",
   "name": "python3"
  },
  "language_info": {
   "codemirror_mode": {
    "name": "ipython",
    "version": 3
   },
   "file_extension": ".py",
   "mimetype": "text/x-python",
   "name": "python",
   "nbconvert_exporter": "python",
   "pygments_lexer": "ipython3",
   "version": "3.11.5"
  },
  "orig_nbformat": 4
 },
 "nbformat": 4,
 "nbformat_minor": 2
}
